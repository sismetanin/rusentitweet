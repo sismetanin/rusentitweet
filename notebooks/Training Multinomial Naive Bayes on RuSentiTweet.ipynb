{
  "cells": [
    {
      "cell_type": "markdown",
      "metadata": {
        "id": "bxtlkvngaoY3"
      },
      "source": [
        "# Training Multinomial Naive Bayes on RuSentiTweet\n",
        "Multinomial Naive Bayes classification algorithm tends to be a baseline solution for sentiment analysis task. The basic idea of Naïve Bayes technique is to find the probabilities of classes assigned to texts by using the joint probabilities of words and classes. Given the dependent feature vector $(x_1, \\dots, x_n)$ and the class $C_k$. Bayes' theorem is stated mathematically as the following relationship:\n",
        "$$\n",
        "\\begin{align}\n",
        "P(C_k \\mid x_1,\\dots,x_n) = \\frac{P(C_k)P(x_1,\\dots,x_n \\mid C_k)}{P(x_1,\\dots,x_n)}\n",
        "\\end{align}\n",
        "$$\n",
        "According to the \"naive\" conditional independence assumptions, for the given class $C_k$ each feature $x_{i}$ is conditionally independent of every other feature $x_{j}$ for$j\\neq i$.\n",
        "$$\n",
        "\\begin{align}\n",
        "P(x_i \\mid C_k,x_1,\\dots,x_n) = P(x_i \\mid C_k)\n",
        "\\end{align}\n",
        "$$\n",
        "Thus, the relation can be simplified to\n",
        "$$\n",
        "\\begin{align}\n",
        "P(C_k \\mid x_1,\\dots,x_n) = \\frac{P(C_k)\\prod_{i=1}^{n}P(x_i \\mid C_k)}{P(x_1,\\dots,x_n)}\n",
        "\\end{align}\n",
        "$$\n",
        "Since $P(x_1,...x_n)$ is constant, if the values of the feature variables are known, the following classification rule can be used:\n",
        "$$\n",
        "\\begin{align}\n",
        "P(C_k \\mid x_1,\\dots,x_n) \\propto  P(C_k)\\prod_{i=1}^{n}P(x_i \\mid C_k) \\\\ \\Downarrow \\\\ \\hat{y} = \\underset{k}{\\arg\\max} P(C_k)\\prod_{i=1}^{n}P(x_i \\mid C_k)\n",
        "\\end{align}\n",
        "$$\n",
        "To avoid underflow, log probabilities can be used.\n",
        "$$\n",
        "\\begin{align}\n",
        "\\hat{y} = \\underset{k}{\\arg\\max}(\\ln{P(C_k)}+\\sum_{i=1}^{n}\\ln{P(x_i \\mid C_k)})\n",
        "\\end{align}\n",
        "$$\n",
        "The variaty of naive Bayes classifiers primarly differs between each other by the assumptions they make regarding the distribution of $P(x_i \\mid C_k)$, while $P(C_k)$ is usually defined as the relative frequency of class $C_k$ in the training dataset.\n",
        "\n",
        "The multinomial distribution is parametrized by vectors $\\theta_k = (\\theta_{k1},\\ldots,\\theta_{kn})$ for each class $C_k$, where $n$ is the number of features (i.e. the size of the vocabulary) and $\\theta_{ki}$ is the probability $P(x_i \\mid C_k)$ of feature $i$ appearing in a sample that belongs to the class $C_k$.\n",
        "\n",
        "The parameters $\\theta_y$ is estimated by a smoothed version of maximum likelihood, i.e. relative frequency counting:\n",
        "$$\n",
        "\\begin{align}\n",
        "\\hat{\\theta}_{ki} = \\frac{ N_{ki} + \\alpha}{N_k + \\alpha n}\n",
        "\\end{align}\n",
        "$$\n",
        "where $N_{ki} = \\sum_{x \\in T} x_i$ is the number of times feature $i$ appears in a sample of class y in the training set $T$, and $N_{y} = \\sum_{i=1}^{|T|} N_{ki}$ is the total count of all features for class $C_k$. The smoothing priors $\\alpha \\ge 0$ accounts for features not present in the learning samples and prevents zero probabilities in further computations. Setting $\\alpha = 1$ is called Laplace smoothing, while $\\alpha < 1$ is called Lidstone smoothing.\n",
        "\n",
        "Thus, the final decision rule is defined as follows:\n",
        "$$\n",
        "\\begin{align}\n",
        "\\hat{y} = \\underset{k}{\\arg\\max}(\\ln{P(C_k)}+\\sum_{i=1}^{n}\\ln{\\frac{ N_{ki} + \\alpha}{N_k + \\alpha n}})\n",
        "\\end{align}\n",
        "$$\n",
        "\n"
      ]
    },
    {
      "cell_type": "markdown",
      "metadata": {
        "id": "JeWrJFvoaoY5"
      },
      "source": [
        "## 1. Loading data"
      ]
    },
    {
      "cell_type": "code",
      "execution_count": 1,
      "metadata": {
        "id": "0QpWZgZhaoY6"
      },
      "outputs": [],
      "source": [
        "import pandas as pd\n",
        "import numpy as np"
      ]
    },
    {
      "cell_type": "code",
      "execution_count": 4,
      "metadata": {
        "id": "6dDyW1qRaoY7"
      },
      "outputs": [],
      "source": [
        "# Read the data from CSV files\n",
        "df_rusentitweet_train = pd.read_csv('rusentitweet_train_v2.csv')\n",
        "df_rusentitweet_test = pd.read_csv('rusentitweet_test_v2.csv')"
      ]
    },
    {
      "cell_type": "code",
      "source": [
        "from numpy.random import randint\n",
        "\n",
        "from sklearn import preprocessing\n",
        "\n",
        "import numpy as np\n",
        "from sklearn.metrics import precision_recall_fscore_support, accuracy_score\n",
        "\n",
        "def compute_metrics(eval_pred):\n",
        "    logits, labels = eval_pred\n",
        "    predictions = np.argmax(logits, axis=-1)\n",
        "    precision, recall, f1, _ = precision_recall_fscore_support(labels, predictions, average='macro')\n",
        "    acc = accuracy_score(labels, predictions)\n",
        "    return {\n",
        "        'accuracy': acc,\n",
        "        'f1': f1,\n",
        "        'precision': precision,\n",
        "        'recall': recall\n",
        "    }\n",
        "\n",
        "le = preprocessing.LabelEncoder()\n",
        "le.fit(df_rusentitweet_train['label'])\n",
        "true_classes = le.transform(df_rusentitweet_test['label'])"
      ],
      "metadata": {
        "id": "OHctc9y5dA2z"
      },
      "execution_count": 6,
      "outputs": []
    },
    {
      "cell_type": "markdown",
      "metadata": {
        "id": "SYZtoPssaoY8"
      },
      "source": [
        "## 2. Preprocessing data\n",
        "Texts generated by humans in social media sites contain lots of noise that can significantly affect the results of the sentiment classification process. Moreover, depending on the features generation approach, every new term seems to add at least one new dimension to the feature space. That makes the feature space more sparse and high-dimensional. Consequently, the task of the classifier has become more complex.\n",
        "\n",
        "To prepare messages, such text preprocessing techniques as replacing URLs and usernames with keywords, removing punctuation marks and converting to lowercase were used in this program. "
      ]
    },
    {
      "cell_type": "code",
      "execution_count": 7,
      "metadata": {
        "id": "egpQuFveaoY8"
      },
      "outputs": [],
      "source": [
        "import re\n",
        "\n",
        "def preprocess_text(text):\n",
        "    text = re.sub('((www\\.[^\\s]+)|(https?://[^\\s]+))','URL', text)\n",
        "    text = re.sub('@[^\\s]+','USER', text)\n",
        "    text = text.lower().replace(\"ё\", \"е\")\n",
        "    text = re.sub(' +',' ', text)\n",
        "    return text.strip()\n",
        "\n",
        "df_rusentitweet_train['text'] = [preprocess_text(t) for t in df_rusentitweet_train['text']]\n",
        "df_rusentitweet_test['text'] = [preprocess_text(t) for t in df_rusentitweet_test['text']]"
      ]
    },
    {
      "cell_type": "markdown",
      "metadata": {
        "id": "qxITUZnaaoY8"
      },
      "source": [
        "## 3. Training MultinomialNB\n",
        "A Pipeline class was used to make the vectorizer => transformer => classifier easier to work with. Such hyper-parameters as n-grams range, IDF usage, TF-IDF normalization type and Naive Bayes alpha were tunned using grid search. The performance of the selected hyper-parameters was measured on a test set that was not used during the model training step."
      ]
    },
    {
      "cell_type": "code",
      "execution_count": 8,
      "metadata": {
        "id": "Dr9nbZcbaoY8"
      },
      "outputs": [],
      "source": [
        "from sklearn.pipeline import Pipeline\n",
        "from sklearn.naive_bayes import MultinomialNB\n",
        "from sklearn.feature_extraction.text import CountVectorizer, TfidfTransformer\n",
        "from sklearn.model_selection import train_test_split, GridSearchCV\n",
        "\n",
        "text_clf = Pipeline([('vect', CountVectorizer()),\n",
        "                     ('tfidf', TfidfTransformer()),\n",
        "                     ('clf', MultinomialNB())])\n",
        "\n",
        "tuned_parameters = {\n",
        "    'vect__ngram_range': [(1, 1), (1, 2), (2, 2)],\n",
        "    'tfidf__use_idf': (True, False),\n",
        "    'tfidf__norm': ('l1', 'l2'),\n",
        "    'clf__alpha': [1, 1e-1, 1e-2]\n",
        "}"
      ]
    },
    {
      "cell_type": "markdown",
      "metadata": {
        "id": "qpFZHyXJaoY9"
      },
      "source": [
        "The dataset was plited into train and test subsets."
      ]
    },
    {
      "cell_type": "code",
      "execution_count": 9,
      "metadata": {
        "id": "JHDfCFFkaoY9"
      },
      "outputs": [],
      "source": [
        "x_train = df_rusentitweet_train['text']\n",
        "x_test = df_rusentitweet_test['text']\n",
        "y_train = df_rusentitweet_train['label']\n",
        "y_test = df_rusentitweet_test['label']"
      ]
    },
    {
      "cell_type": "code",
      "source": [
        "from sklearn.metrics import classification_report\n",
        "\n",
        "score = 'f1_macro'\n",
        "print(\"# Tuning hyper-parameters for %s\" % score)\n",
        "print()\n",
        "np.errstate(divide='ignore')\n",
        "clf = GridSearchCV(text_clf, tuned_parameters, cv=5, scoring=score)\n",
        "clf.fit(x_train, y_train)\n",
        "\n",
        "print(\"Best parameters set found on development set:\")\n",
        "print()\n",
        "print(clf.best_params_)\n",
        "print()\n",
        "print(\"Grid scores on development set:\")\n",
        "print()\n",
        "for mean, std, params in zip(clf.cv_results_['mean_test_score'], \n",
        "                             clf.cv_results_['std_test_score'], \n",
        "                             clf.cv_results_['params']):\n",
        "    print(\"%0.3f (+/-%0.03f) for %r\" % (mean, std * 2, params))\n",
        "print()\n",
        "\n",
        "print(\"Detailed classification report:\")\n",
        "print()\n",
        "print(\"The model is trained on the full development set.\")\n",
        "print(\"The scores are computed on the full evaluation set.\")\n",
        "print()\n",
        "print(classification_report(y_test, clf.predict(x_test), digits=4))\n",
        "print()"
      ],
      "metadata": {
        "colab": {
          "base_uri": "https://localhost:8080/"
        },
        "id": "TLhj-5LmdIj1",
        "outputId": "a0ca2ec6-47e1-4d66-820c-9ad12fba19fa"
      },
      "execution_count": 10,
      "outputs": [
        {
          "output_type": "stream",
          "name": "stdout",
          "text": [
            "# Tuning hyper-parameters for f1_macro\n",
            "\n",
            "Best parameters set found on development set:\n",
            "\n",
            "{'clf__alpha': 0.01, 'tfidf__norm': 'l2', 'tfidf__use_idf': False, 'vect__ngram_range': (1, 2)}\n",
            "\n",
            "Grid scores on development set:\n",
            "\n",
            "0.158 (+/-0.052) for {'clf__alpha': 1, 'tfidf__norm': 'l1', 'tfidf__use_idf': True, 'vect__ngram_range': (1, 1)}\n",
            "0.138 (+/-0.047) for {'clf__alpha': 1, 'tfidf__norm': 'l1', 'tfidf__use_idf': True, 'vect__ngram_range': (1, 2)}\n",
            "0.204 (+/-0.026) for {'clf__alpha': 1, 'tfidf__norm': 'l1', 'tfidf__use_idf': True, 'vect__ngram_range': (2, 2)}\n",
            "0.128 (+/-0.005) for {'clf__alpha': 1, 'tfidf__norm': 'l1', 'tfidf__use_idf': False, 'vect__ngram_range': (1, 1)}\n",
            "0.121 (+/-0.004) for {'clf__alpha': 1, 'tfidf__norm': 'l1', 'tfidf__use_idf': False, 'vect__ngram_range': (1, 2)}\n",
            "0.205 (+/-0.024) for {'clf__alpha': 1, 'tfidf__norm': 'l1', 'tfidf__use_idf': False, 'vect__ngram_range': (2, 2)}\n",
            "0.351 (+/-0.021) for {'clf__alpha': 1, 'tfidf__norm': 'l2', 'tfidf__use_idf': True, 'vect__ngram_range': (1, 1)}\n",
            "0.328 (+/-0.012) for {'clf__alpha': 1, 'tfidf__norm': 'l2', 'tfidf__use_idf': True, 'vect__ngram_range': (1, 2)}\n",
            "0.267 (+/-0.019) for {'clf__alpha': 1, 'tfidf__norm': 'l2', 'tfidf__use_idf': True, 'vect__ngram_range': (2, 2)}\n",
            "0.236 (+/-0.022) for {'clf__alpha': 1, 'tfidf__norm': 'l2', 'tfidf__use_idf': False, 'vect__ngram_range': (1, 1)}\n",
            "0.270 (+/-0.020) for {'clf__alpha': 1, 'tfidf__norm': 'l2', 'tfidf__use_idf': False, 'vect__ngram_range': (1, 2)}\n",
            "0.273 (+/-0.017) for {'clf__alpha': 1, 'tfidf__norm': 'l2', 'tfidf__use_idf': False, 'vect__ngram_range': (2, 2)}\n",
            "0.391 (+/-0.024) for {'clf__alpha': 0.1, 'tfidf__norm': 'l1', 'tfidf__use_idf': True, 'vect__ngram_range': (1, 1)}\n",
            "0.307 (+/-0.010) for {'clf__alpha': 0.1, 'tfidf__norm': 'l1', 'tfidf__use_idf': True, 'vect__ngram_range': (1, 2)}\n",
            "0.350 (+/-0.016) for {'clf__alpha': 0.1, 'tfidf__norm': 'l1', 'tfidf__use_idf': True, 'vect__ngram_range': (2, 2)}\n",
            "0.257 (+/-0.018) for {'clf__alpha': 0.1, 'tfidf__norm': 'l1', 'tfidf__use_idf': False, 'vect__ngram_range': (1, 1)}\n",
            "0.212 (+/-0.044) for {'clf__alpha': 0.1, 'tfidf__norm': 'l1', 'tfidf__use_idf': False, 'vect__ngram_range': (1, 2)}\n",
            "0.341 (+/-0.015) for {'clf__alpha': 0.1, 'tfidf__norm': 'l1', 'tfidf__use_idf': False, 'vect__ngram_range': (2, 2)}\n",
            "0.495 (+/-0.025) for {'clf__alpha': 0.1, 'tfidf__norm': 'l2', 'tfidf__use_idf': True, 'vect__ngram_range': (1, 1)}\n",
            "0.495 (+/-0.016) for {'clf__alpha': 0.1, 'tfidf__norm': 'l2', 'tfidf__use_idf': True, 'vect__ngram_range': (1, 2)}\n",
            "0.393 (+/-0.019) for {'clf__alpha': 0.1, 'tfidf__norm': 'l2', 'tfidf__use_idf': True, 'vect__ngram_range': (2, 2)}\n",
            "0.469 (+/-0.021) for {'clf__alpha': 0.1, 'tfidf__norm': 'l2', 'tfidf__use_idf': False, 'vect__ngram_range': (1, 1)}\n",
            "0.466 (+/-0.022) for {'clf__alpha': 0.1, 'tfidf__norm': 'l2', 'tfidf__use_idf': False, 'vect__ngram_range': (1, 2)}\n",
            "0.387 (+/-0.018) for {'clf__alpha': 0.1, 'tfidf__norm': 'l2', 'tfidf__use_idf': False, 'vect__ngram_range': (2, 2)}\n",
            "0.474 (+/-0.015) for {'clf__alpha': 0.01, 'tfidf__norm': 'l1', 'tfidf__use_idf': True, 'vect__ngram_range': (1, 1)}\n",
            "0.463 (+/-0.017) for {'clf__alpha': 0.01, 'tfidf__norm': 'l1', 'tfidf__use_idf': True, 'vect__ngram_range': (1, 2)}\n",
            "0.396 (+/-0.016) for {'clf__alpha': 0.01, 'tfidf__norm': 'l1', 'tfidf__use_idf': True, 'vect__ngram_range': (2, 2)}\n",
            "0.435 (+/-0.025) for {'clf__alpha': 0.01, 'tfidf__norm': 'l1', 'tfidf__use_idf': False, 'vect__ngram_range': (1, 1)}\n",
            "0.428 (+/-0.018) for {'clf__alpha': 0.01, 'tfidf__norm': 'l1', 'tfidf__use_idf': False, 'vect__ngram_range': (1, 2)}\n",
            "0.391 (+/-0.017) for {'clf__alpha': 0.01, 'tfidf__norm': 'l1', 'tfidf__use_idf': False, 'vect__ngram_range': (2, 2)}\n",
            "0.500 (+/-0.016) for {'clf__alpha': 0.01, 'tfidf__norm': 'l2', 'tfidf__use_idf': True, 'vect__ngram_range': (1, 1)}\n",
            "0.501 (+/-0.015) for {'clf__alpha': 0.01, 'tfidf__norm': 'l2', 'tfidf__use_idf': True, 'vect__ngram_range': (1, 2)}\n",
            "0.404 (+/-0.014) for {'clf__alpha': 0.01, 'tfidf__norm': 'l2', 'tfidf__use_idf': True, 'vect__ngram_range': (2, 2)}\n",
            "0.507 (+/-0.020) for {'clf__alpha': 0.01, 'tfidf__norm': 'l2', 'tfidf__use_idf': False, 'vect__ngram_range': (1, 1)}\n",
            "0.508 (+/-0.019) for {'clf__alpha': 0.01, 'tfidf__norm': 'l2', 'tfidf__use_idf': False, 'vect__ngram_range': (1, 2)}\n",
            "0.400 (+/-0.014) for {'clf__alpha': 0.01, 'tfidf__norm': 'l2', 'tfidf__use_idf': False, 'vect__ngram_range': (2, 2)}\n",
            "\n",
            "Detailed classification report:\n",
            "\n",
            "The model is trained on the full development set.\n",
            "The scores are computed on the full evaluation set.\n",
            "\n",
            "              precision    recall  f1-score   support\n",
            "\n",
            "    negative     0.5191    0.5136    0.5164       660\n",
            "     neutral     0.5349    0.7032    0.6076      1068\n",
            "    positive     0.4729    0.3975    0.4319       483\n",
            "        skip     0.6183    0.2195    0.3240       369\n",
            "      speech     0.7882    0.6768    0.7283        99\n",
            "\n",
            "    accuracy                         0.5338      2679\n",
            "   macro avg     0.5867    0.5021    0.5216      2679\n",
            "weighted avg     0.5407    0.5338    0.5189      2679\n",
            "\n",
            "\n"
          ]
        }
      ]
    },
    {
      "cell_type": "code",
      "source": [
        "import numpy as np\n",
        "import itertools\n",
        "import numpy as np\n",
        "import matplotlib.pyplot as plt\n",
        "\n",
        "from sklearn import svm, datasets\n",
        "from sklearn.model_selection import train_test_split\n",
        "from sklearn.metrics import confusion_matrix\n",
        "from sklearn.metrics import classification_report\n",
        "\n",
        "\n",
        "def plot_confusion_matrix(cm, classes,\n",
        "                          normalize=False,\n",
        "                          title='Confusion matrix',\n",
        "                          cmap=plt.cm.Blues):\n",
        "    \"\"\"\n",
        "    This function prints and plots the confusion matrix.\n",
        "    Normalization can be applied by setting `normalize=True`.\n",
        "    \"\"\"\n",
        "    plt.imshow(cm, interpolation='nearest', cmap=cmap)\n",
        "\n",
        "    plt.colorbar()\n",
        "    \n",
        "    tick_marks = np.arange(len(classes))\n",
        "    plt.xticks(tick_marks, classes, rotation=45)\n",
        "    plt.yticks(tick_marks, classes)\n",
        "    plt.ylim([4.5, -0.5])\n",
        "\n",
        "    if normalize:\n",
        "        cm = cm.astype('float') / cm.sum(axis=1)[:, np.newaxis]\n",
        "        print(\"Normalized confusion matrix\")\n",
        "    else:\n",
        "        print('Confusion matrix, without normalization')\n",
        "\n",
        "   \n",
        "\n",
        "\n",
        "    thresh = cm.max() / 2.\n",
        "    for i, j in itertools.product(range(cm.shape[0]), range(cm.shape[1])):\n",
        "        plt.text(j, i, '{0:.2f}'.format(cm[i, j]),\n",
        "                 horizontalalignment=\"center\",\n",
        "                 color=\"white\" if cm[i, j] > thresh else \"black\")\n",
        "    plt.title('Multinomial Naive Bayes on RuSentiTweet')\n",
        "    plt.ylabel('True label')\n",
        "    plt.xlabel('Predicted label')\n",
        "    plt.tight_layout()\n",
        "    plt.savefig('confusion.png', dpi=300, bbox_inches = \"tight\")\n",
        "\n",
        "    # Compute confusion matrix\n",
        "cnf_matrix = confusion_matrix(y_test, clf.predict(x_test))\n",
        "np.set_printoptions(precision=2)\n",
        "\n",
        "class_names = ['negative', 'neutral', 'positive', 'skip', 'speech'] \n",
        "plt.figure()\n",
        "plot_confusion_matrix(cnf_matrix, classes=class_names, normalize=True,\n",
        "                      title='Normalized confusion matrix')"
      ],
      "metadata": {
        "colab": {
          "base_uri": "https://localhost:8080/",
          "height": 315
        },
        "id": "o5hVX3kOeD0w",
        "outputId": "a4e7a239-ca4e-47b1-8943-7ad41ac16dd0"
      },
      "execution_count": 11,
      "outputs": [
        {
          "output_type": "stream",
          "name": "stdout",
          "text": [
            "Normalized confusion matrix\n"
          ]
        },
        {
          "output_type": "display_data",
          "data": {
            "text/plain": [
              "<Figure size 432x288 with 2 Axes>"
            ],
            "image/png": "[encoded data removed]"
          },
          "metadata": {
            "needs_background": "light"
          }
        }
      ]
    }
  ],
  "metadata": {
    "kernelspec": {
      "display_name": "Python 3",
      "language": "python",
      "name": "python3"
    },
    "language_info": {
      "codemirror_mode": {
        "name": "ipython",
        "version": 3
      },
      "file_extension": ".py",
      "mimetype": "text/x-python",
      "name": "python",
      "nbconvert_exporter": "python",
      "pygments_lexer": "ipython3",
      "version": "3.6.4"
    },
    "colab": {
      "name": "Training Multinomial Naive Bayes on RuSentiTweet",
      "provenance": []
    }
  },
  "nbformat": 4,
  "nbformat_minor": 0
}