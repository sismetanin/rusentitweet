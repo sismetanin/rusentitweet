{
 "cells": [
  {
   "cell_type": "code",
   "execution_count": 1,
   "metadata": {},
   "outputs": [],
   "source": [
    "import pandas as pd\n",
    "\n",
    "df = pd.read_csv('final_assignments_from_pool_33247583__09-05-2022.tsv', dtype={'INPUT:id': str})\n",
    "df = df[pd.isnull(df['GOLDEN:sentiment'])]"
   ]
  },
  {
   "cell_type": "code",
   "execution_count": 2,
   "metadata": {},
   "outputs": [
    {
     "name": "stderr",
     "output_type": "stream",
     "text": [
      "100%|██████████| 15000/15000 [00:51<00:00, 292.38it/s]"
     ]
    },
    {
     "name": "stdout",
     "output_type": "stream",
     "text": [
      "Class Distribution Counter({'neutral': 5341, 'negative': 3298, 'positive': 2414, 'skip': 1843, 'speech': 496})\n",
      "Removed Texts 1608\n"
     ]
    },
    {
     "name": "stderr",
     "output_type": "stream",
     "text": [
      "\n"
     ]
    }
   ],
   "source": [
    "from tqdm import tqdm as tq\n",
    "from collections import Counter\n",
    "\n",
    "def aggregte_annotations(annotations):\n",
    "    counter = Counter(annotations)\n",
    "    if len(counter)==1:\n",
    "        return annotations[0]\n",
    "    else:\n",
    "        mc = counter.most_common(1)\n",
    "        if mc[0][1]>len(annotations)/2:\n",
    "            return mc[0][0]\n",
    "        else:\n",
    "            return None\n",
    "\n",
    "\n",
    "texts = []\n",
    "labels = []\n",
    "tweet_ids = []\n",
    "dfs = []\n",
    "\n",
    "from collections import Counter\n",
    "for tweet_id in tq(df['INPUT:id'].unique()):\n",
    "    df_temp = df[df['INPUT:id']==tweet_id]\n",
    "    sentiment = aggregte_annotations(df_temp['OUTPUT:sentiment'].values)\n",
    "    if sentiment is None:\n",
    "        continue\n",
    "    texts.append(df_temp['INPUT:comment'].values[0])\n",
    "    tweet_ids.append(tweet_id)\n",
    "    labels.append(sentiment)\n",
    "    \n",
    "print('Class Distribution', Counter(labels))\n",
    "print('Removed Texts', len(df['INPUT:id'].unique())-len(labels))"
   ]
  },
  {
   "cell_type": "code",
   "execution_count": 5,
   "metadata": {},
   "outputs": [],
   "source": [
    "df_filtered = df[df['INPUT:id'].isin(tweet_ids)]"
   ]
  },
  {
   "cell_type": "code",
   "execution_count": 6,
   "metadata": {},
   "outputs": [
    {
     "name": "stderr",
     "output_type": "stream",
     "text": [
      "100%|██████████| 473/473 [00:09<00:00, 51.02it/s] \n"
     ]
    },
    {
     "name": "stdout",
     "output_type": "stream",
     "text": [
      "Krippendorff's alpha for nominal metric:  0.5048646758342411\n"
     ]
    }
   ],
   "source": [
    "import numpy as np\n",
    "import krippendorff\n",
    "\n",
    "class_mapper = {\n",
    "    'negative': 1,\n",
    "    'neutral': 2,\n",
    "    'positive': 3,\n",
    "    'speech': 4,\n",
    "    'skip': 5\n",
    "}\n",
    "\n",
    "reliability_data = []\n",
    "for user_id in tq(df_filtered['ASSIGNMENT:worker_id'].unique()):\n",
    "    reliability_item = [np.nan]*len(tweet_ids)\n",
    "    for index, row in df_filtered[df_filtered['ASSIGNMENT:worker_id']==user_id].iterrows():\n",
    "        sentiment = row['OUTPUT:sentiment']\n",
    "        reliability_item[tweet_ids.index(row['INPUT:id'])] = class_mapper[sentiment]\n",
    "    reliability_data.append(reliability_item)\n",
    "    \n",
    "print(\"Krippendorff's alpha for nominal metric: \", krippendorff.alpha(reliability_data=reliability_data,\n",
    "                                                                      level_of_measurement=\"nominal\"))"
   ]
  },
  {
   "cell_type": "code",
   "execution_count": 8,
   "metadata": {},
   "outputs": [
    {
     "name": "stdout",
     "output_type": "stream",
     "text": [
      "binary 0.5048646758342411\n",
      "custom 0.5601312165339509\n"
     ]
    }
   ],
   "source": [
    "from nltk.metrics.agreement import AnnotationTask\n",
    "from nltk.metrics import interval_distance, binary_distance \n",
    "\n",
    "distance_mapper = {\n",
    "    'negative': {\n",
    "        'negative': 0,\n",
    "        'neutral': 1,\n",
    "        'positive': 2,\n",
    "        'speech': 2,\n",
    "        'skip': 1\n",
    "    },\n",
    "    'neutral': {\n",
    "        'negative': 1,\n",
    "        'neutral': 0,\n",
    "        'positive': 1,\n",
    "        'speech': 1,\n",
    "        'skip': 1\n",
    "    },\n",
    "    'positive': {\n",
    "        'negative': 2,\n",
    "        'neutral': 1,\n",
    "        'positive': 0,\n",
    "        'speech': 0,\n",
    "        'skip': 1\n",
    "    },\n",
    "    'speech': {\n",
    "        'negative': 2,\n",
    "        'neutral': 1,\n",
    "        'positive': 0,\n",
    "        'speech': 0,\n",
    "        'skip': 1\n",
    "    },\n",
    "    'skip': {\n",
    "        'negative': 1,\n",
    "        'neutral': 1,\n",
    "        'positive': 1,\n",
    "        'speech': 1,\n",
    "        'skip': 0\n",
    "    },\n",
    "}\n",
    "\n",
    "class_mapper = {\n",
    "    'negative': 1,\n",
    "    'neutral': 2,\n",
    "    'positive': 3,\n",
    "    'speech': 4,\n",
    "    'skip': 5\n",
    "}\n",
    "\n",
    "def custom_distance(x, y):\n",
    "    return distance_mapper[x][y]\n",
    "\n",
    "\n",
    "annotation_triples = []\n",
    "for _, row in df_filtered.iterrows():\n",
    "    annotation_triples.append((row['ASSIGNMENT:worker_id'], row['INPUT:id'], row['OUTPUT:sentiment']))\n",
    "\n",
    "t = AnnotationTask(annotation_triples, distance=binary_distance)\n",
    "result = t.alpha()\n",
    "print('binary', result)\n",
    "t = AnnotationTask(annotation_triples, distance=custom_distance)\n",
    "result = t.alpha()\n",
    "print('custom', result)"
   ]
  },
  {
   "cell_type": "markdown",
   "metadata": {},
   "source": [
    "# Most Common Tokens"
   ]
  },
  {
   "cell_type": "code",
   "execution_count": 10,
   "metadata": {},
   "outputs": [],
   "source": [
    "from collections import defaultdict\n",
    "import matplotlib.pyplot as plt\n",
    "import datetime\n",
    "import matplotlib.dates as mdates\n",
    "%matplotlib inline\n",
    "\n",
    "df_final = pd.DataFrame({\n",
    "    'text': texts,\n",
    "    'label': labels,\n",
    "    'id': tweet_ids\n",
    "})\n",
    "df_final.to_csv('rusentitweet_v2.csv')"
   ]
  },
  {
   "cell_type": "code",
   "execution_count": 60,
   "metadata": {},
   "outputs": [
    {
     "data": {
      "text/html": [
       "<div>\n",
       "<style scoped>\n",
       "    .dataframe tbody tr th:only-of-type {\n",
       "        vertical-align: middle;\n",
       "    }\n",
       "\n",
       "    .dataframe tbody tr th {\n",
       "        vertical-align: top;\n",
       "    }\n",
       "\n",
       "    .dataframe thead th {\n",
       "        text-align: right;\n",
       "    }\n",
       "</style>\n",
       "<table border=\"1\" class=\"dataframe\">\n",
       "  <thead>\n",
       "    <tr style=\"text-align: right;\">\n",
       "      <th></th>\n",
       "      <th>text</th>\n",
       "      <th>label</th>\n",
       "      <th>id</th>\n",
       "    </tr>\n",
       "  </thead>\n",
       "  <tbody>\n",
       "    <tr>\n",
       "      <th>0</th>\n",
       "      <td>@varlamov @McFaul На</td>\n",
       "      <td>skip</td>\n",
       "      <td>1327934765807308801</td>\n",
       "    </tr>\n",
       "    <tr>\n",
       "      <th>1</th>\n",
       "      <td>велл они  всё равно что мусор так что ничего с...</td>\n",
       "      <td>negative</td>\n",
       "      <td>1252943181387350017</td>\n",
       "    </tr>\n",
       "    <tr>\n",
       "      <th>2</th>\n",
       "      <td>\"трезвая жизнь какая-то такая стрёмная\"\\r\\n(с)...</td>\n",
       "      <td>negative</td>\n",
       "      <td>1323610669061677056</td>\n",
       "    </tr>\n",
       "    <tr>\n",
       "      <th>3</th>\n",
       "      <td>Ой какие неожиданные результаты 🤭 https://t.co...</td>\n",
       "      <td>neutral</td>\n",
       "      <td>1336231661160247297</td>\n",
       "    </tr>\n",
       "    <tr>\n",
       "      <th>4</th>\n",
       "      <td>@Shvonder_chief @dimsmirnov175 На заборе тоже ...</td>\n",
       "      <td>neutral</td>\n",
       "      <td>1292421736454127617</td>\n",
       "    </tr>\n",
       "    <tr>\n",
       "      <th>...</th>\n",
       "      <td>...</td>\n",
       "      <td>...</td>\n",
       "      <td>...</td>\n",
       "    </tr>\n",
       "    <tr>\n",
       "      <th>13387</th>\n",
       "      <td>все пора спать пиздец словила шизу</td>\n",
       "      <td>negative</td>\n",
       "      <td>1310349554911457286</td>\n",
       "    </tr>\n",
       "    <tr>\n",
       "      <th>13388</th>\n",
       "      <td>такими темпами я создам новую секту или органи...</td>\n",
       "      <td>neutral</td>\n",
       "      <td>1326638109317066752</td>\n",
       "    </tr>\n",
       "    <tr>\n",
       "      <th>13389</th>\n",
       "      <td>Ты смотрела аниме, завернувшись в одеяло ,пока...</td>\n",
       "      <td>neutral</td>\n",
       "      <td>1333159916505362433</td>\n",
       "    </tr>\n",
       "    <tr>\n",
       "      <th>13390</th>\n",
       "      <td>@AlyonaPikachu Пиздануться</td>\n",
       "      <td>negative</td>\n",
       "      <td>1308341976455053312</td>\n",
       "    </tr>\n",
       "    <tr>\n",
       "      <th>13391</th>\n",
       "      <td>Акция «Библионочь — 2020». Лисюткина А. читает...</td>\n",
       "      <td>skip</td>\n",
       "      <td>1255780330260365317</td>\n",
       "    </tr>\n",
       "  </tbody>\n",
       "</table>\n",
       "<p>13392 rows × 3 columns</p>\n",
       "</div>"
      ],
      "text/plain": [
       "                                                    text     label  \\\n",
       "0                                   @varlamov @McFaul На      skip   \n",
       "1      велл они  всё равно что мусор так что ничего с...  negative   \n",
       "2      \"трезвая жизнь какая-то такая стрёмная\"\\r\\n(с)...  negative   \n",
       "3      Ой какие неожиданные результаты 🤭 https://t.co...   neutral   \n",
       "4      @Shvonder_chief @dimsmirnov175 На заборе тоже ...   neutral   \n",
       "...                                                  ...       ...   \n",
       "13387                 все пора спать пиздец словила шизу  negative   \n",
       "13388  такими темпами я создам новую секту или органи...   neutral   \n",
       "13389  Ты смотрела аниме, завернувшись в одеяло ,пока...   neutral   \n",
       "13390                         @AlyonaPikachu Пиздануться  negative   \n",
       "13391  Акция «Библионочь — 2020». Лисюткина А. читает...      skip   \n",
       "\n",
       "                        id  \n",
       "0      1327934765807308801  \n",
       "1      1252943181387350017  \n",
       "2      1323610669061677056  \n",
       "3      1336231661160247297  \n",
       "4      1292421736454127617  \n",
       "...                    ...  \n",
       "13387  1310349554911457286  \n",
       "13388  1326638109317066752  \n",
       "13389  1333159916505362433  \n",
       "13390  1308341976455053312  \n",
       "13391  1255780330260365317  \n",
       "\n",
       "[13392 rows x 3 columns]"
      ]
     },
     "execution_count": 60,
     "metadata": {},
     "output_type": "execute_result"
    }
   ],
   "source": [
    "df_final"
   ]
  },
  {
   "cell_type": "code",
   "execution_count": 67,
   "metadata": {},
   "outputs": [
    {
     "data": {
      "text/plain": [
       "13392"
      ]
     },
     "execution_count": 67,
     "metadata": {},
     "output_type": "execute_result"
    }
   ],
   "source": [
    "len(df_final)"
   ]
  },
  {
   "cell_type": "code",
   "execution_count": 68,
   "metadata": {},
   "outputs": [
    {
     "data": {
      "text/plain": [
       "1608"
      ]
     },
     "execution_count": 68,
     "metadata": {},
     "output_type": "execute_result"
    }
   ],
   "source": [
    "15000-13392"
   ]
  },
  {
   "cell_type": "code",
   "execution_count": 65,
   "metadata": {},
   "outputs": [
    {
     "name": "stdout",
     "output_type": "stream",
     "text": [
      "skip 1843 0.1376194743130227\n",
      "negative 3298 0.2462664277180406\n",
      "neutral 5341 0.3988201911589008\n",
      "speech 496 0.037037037037037035\n",
      "positive 2414 0.18025686977299882\n"
     ]
    }
   ],
   "source": [
    "c = Counter(df_final['label'])\n",
    "for label in c.keys():\n",
    "    print(label, c[label], c[label]/sum(c.values()))"
   ]
  },
  {
   "cell_type": "code",
   "execution_count": 51,
   "metadata": {},
   "outputs": [],
   "source": [
    "from sklearn.model_selection import train_test_split\n",
    "\n",
    "df_rusentitweet_train, df_rusentitweet_test= train_test_split(df_final, test_size=0.2, \n",
    "                                                              random_state=42, stratify=df_final['label'])\n",
    "\n",
    "\n",
    "df_rusentitweet_train.to_csv('rusentitweet_train_v2.csv', index=False)\n",
    "df_rusentitweet_test.to_csv('rusentitweet_test_v2.csv', index=False)"
   ]
  },
  {
   "cell_type": "code",
   "execution_count": 52,
   "metadata": {},
   "outputs": [
    {
     "name": "stdout",
     "output_type": "stream",
     "text": [
      "Avg length 59.363425925925924\n",
      "Avg length for skip 51.4145415084102\n",
      "Avg length for speech 42.711693548387096\n",
      "Avg length for neutral 59.29938213817637\n",
      "Avg length for positive 57.851284175642085\n",
      "Avg length for negative 67.5203153426319\n"
     ]
    }
   ],
   "source": [
    "print('Avg length', np.mean([len(text) for text in df_final['text']]))\n",
    "for label in set(df_final['label']):\n",
    "    lengths_labels = [len(text) for text in df_final[df_final['label']==label]['text']]\n",
    "    print('Avg length for ' +label, np.mean(lengths_labels))"
   ]
  },
  {
   "cell_type": "code",
   "execution_count": 49,
   "metadata": {},
   "outputs": [
    {
     "data": {
      "image/png": "[encoded data removed]",
      "text/plain": [
       "<Figure size 648x288 with 1 Axes>"
      ]
     },
     "metadata": {},
     "output_type": "display_data"
    }
   ],
   "source": [
    "from matplotlib import pyplot as plt\n",
    "from collections import Counter\n",
    "\n",
    "plt.style.use('ggplot')\n",
    "\n",
    "fig = plt.gcf()\n",
    "fig.set_size_inches(9, 4)\n",
    "\n",
    "lengths = [len(text) for text in df_final['text']]\n",
    "plt.hist(lengths, bins=len(set(lengths)), color='#4E84C4')\n",
    "plt.gca().set(ylabel='Frequency', xlabel='Length', title='Texts Length Distribution')\n",
    "plt.xlim(min(lengths), max(lengths))\n",
    "plt.show()\n",
    "fig.savefig('texts_length_distribution.png', dpi=180)"
   ]
  },
  {
   "cell_type": "code",
   "execution_count": 53,
   "metadata": {},
   "outputs": [
    {
     "name": "stderr",
     "output_type": "stream",
     "text": [
      "/Users/sismetanin/opt/anaconda3/lib/python3.7/site-packages/numpy/core/_asarray.py:83: VisibleDeprecationWarning: Creating an ndarray from ragged nested sequences (which is a list-or-tuple of lists-or-tuples-or ndarrays with different lengths or shapes) is deprecated. If you meant to do this, you must specify 'dtype=object' when creating the ndarray\n",
      "  return array(a, dtype, copy=False, order=order)\n"
     ]
    },
    {
     "data": {
      "image/png": "[encoded data removed]",
      "text/plain": [
       "<Figure size 648x288 with 1 Axes>"
      ]
     },
     "metadata": {},
     "output_type": "display_data"
    }
   ],
   "source": [
    "overall_lengths = [len(text) for text in df_final['text']]\n",
    "lenghts = []\n",
    "\n",
    "fig = plt.gcf()\n",
    "fig.set_size_inches(9, 4)\n",
    "label_names = ['negative', 'neutral', 'positive', 'speech', 'skip']\n",
    "colors = [\"#D16103\", \"#999999\", \"#52854C\", \"#C3D7A4\", \"#293352\"]\n",
    "colors = [\"#d11141\", \"#ffc425\", \"#00b159\", \"#C3D7A4\", \"#8c8c8c\"]\n",
    "for label in label_names:\n",
    "    label_lengths = [len(text) for text in df_final[df_final['label']==label]['text']]\n",
    "    lenghts.append(label_lengths)\n",
    "\n",
    "plt.hist(lenghts, label=label_names, bins=max(overall_lengths), stacked=True, color=colors)\n",
    "plt.gca().set(ylabel='Texts', xlabel='Length')#, title='Texts Length Distribution')\n",
    "plt.gca().set_xlim(min(overall_lengths), max(overall_lengths))\n",
    "plt.legend()\n",
    "fig.savefig('texts_length_distribution.png', dpi=180, bbox_inches='tight')\n",
    "plt.show()"
   ]
  },
  {
   "cell_type": "code",
   "execution_count": 48,
   "metadata": {},
   "outputs": [
    {
     "data": {
      "image/png": "[encoded data removed]",
      "text/plain": [
       "<Figure size 648x288 with 1 Axes>"
      ]
     },
     "metadata": {},
     "output_type": "display_data"
    }
   ],
   "source": [
    "from matplotlib import pyplot as plt\n",
    "from collections import Counter\n",
    "import matplotlib.ticker as mtick\n",
    "\n",
    "def count_lengths(lengths):\n",
    "    count = [0]*147\n",
    "    for length in lengths:\n",
    "        count[length]+=1\n",
    "    return count\n",
    "\n",
    "def summ(lengths):\n",
    "    lengths = np.array(lengths)\n",
    "    return [sum(lengths[:,i]) for i in range(len(lengths[0]))]\n",
    "\n",
    "fig = plt.gcf()\n",
    "fig.set_size_inches(9, 4)\n",
    "\n",
    "overall_lengths_count = count_lengths([len(text) for text in df_final['text']])\n",
    "labels = []\n",
    "lenght_counts = []\n",
    "label_names = ['negative', 'neutral', 'positive', 'speech', 'skip']\n",
    "for label in label_names:\n",
    "    label_lengths = count_lengths([len(text) for text in df_final[df_final['label']==label]['text']])\n",
    "    for i in range(len(overall_lengths_count)):\n",
    "        if overall_lengths_count[i] == 0:\n",
    "            continue\n",
    "        else:\n",
    "            label_lengths[i]=label_lengths[i]/overall_lengths_count[i]\n",
    "    lenght_counts.append(label_lengths)\n",
    "\n",
    "x = list(range(147))\n",
    "for i in range(len(lenght_counts)):\n",
    "    plt.plot(x, lenght_counts[i], label=label_names[i], color=colors[i])\n",
    "\n",
    "plt.gca().set(ylabel='Texts', xlabel='Length')#, title='Texts Length Distribution')\n",
    "plt.gca().yaxis.set_major_formatter(mtick.PercentFormatter(1))\n",
    "plt.xlim(min(overall_lengths), max(overall_lengths))\n",
    "plt.ylim(0, 1)\n",
    "leg = plt.legend(loc=1)\n",
    "fig.savefig('percentage_texts_length_distribution.png', dpi=180, bbox_inches='tight')\n",
    "plt.show()"
   ]
  },
  {
   "cell_type": "code",
   "execution_count": 42,
   "metadata": {},
   "outputs": [
    {
     "name": "stdout",
     "output_type": "stream",
     "text": [
      "negative (0.6826604835749991, 7.612096640266792e-20)\n",
      "neutral (-0.03234828754743987, 0.7095536603908441)\n",
      "positive (-0.04224436047607222, 0.6266211176885871)\n",
      "speech (-0.5219756165465166, 8.45045127076727e-11)\n",
      "skip (-0.6292139732252783, 3.012098595346391e-16)\n"
     ]
    }
   ],
   "source": [
    "from scipy import stats\n",
    "\n",
    "for i, lenght_count in enumerate(lenght_counts):\n",
    "    print(label_names[i], stats.pearsonr(x[5:140], lenght_count[5:140]))"
   ]
  },
  {
   "cell_type": "code",
   "execution_count": 43,
   "metadata": {},
   "outputs": [
    {
     "name": "stdout",
     "output_type": "stream",
     "text": [
      "negative (0.5447390266949316, 9.850360234217224e-13)\n",
      "neutral (0.008005103445077454, 0.9233381427620928)\n",
      "positive (0.089803334456548, 0.27938593399959066)\n",
      "speech (-0.4818406674916214, 6.456893113643089e-10)\n",
      "skip (-0.4770599589431903, 1.0035724033898375e-09)\n"
     ]
    }
   ],
   "source": [
    "from scipy import stats\n",
    "\n",
    "for i, lenght_count in enumerate(lenght_counts):\n",
    "    print(label_names[i], stats.pearsonr(x, lenght_count))"
   ]
  },
  {
   "cell_type": "code",
   "execution_count": 44,
   "metadata": {},
   "outputs": [
    {
     "data": {
      "text/plain": [
       "[(('у', 'меня'), 306),\n",
       " (('я', 'не'), 253),\n",
       " (('что', 'я'), 134),\n",
       " (('потому', 'что'), 121),\n",
       " (('что', 'то'), 96),\n",
       " (('и', 'не'), 92),\n",
       " (('из', 'за'), 82),\n",
       " (('не', 'знаю'), 79),\n",
       " (('а', 'я'), 73),\n",
       " (('у', 'нас'), 71),\n",
       " (('не', 'могу'), 69),\n",
       " (('что', 'это'), 69),\n",
       " (('но', 'я'), 67),\n",
       " (('и', 'я'), 66),\n",
       " (('я', 'в'), 64),\n",
       " (('как', 'же'), 63),\n",
       " (('у', 'тебя'), 63),\n",
       " (('это', 'не'), 61),\n",
       " (('я', 'тоже'), 59),\n",
       " (('я', 'уже'), 58)]"
      ]
     },
     "execution_count": 44,
     "metadata": {},
     "output_type": "execute_result"
    }
   ],
   "source": [
    "import nltk\n",
    "from nltk.util import ngrams\n",
    "from nltk.collocations import BigramCollocationFinder\n",
    "from nltk.metrics import BigramAssocMeasures\n",
    "from nltk.tokenize import TweetTokenizer\n",
    "from nltk.util import ngrams\n",
    "import re\n",
    "\n",
    "tt = TweetTokenizer()\n",
    "\n",
    "def get_bigrams(texts):\n",
    "    bigram_fd = nltk.FreqDist()\n",
    "    for tweet in texts:\n",
    "        tweet = re.sub('[^а-яА-Я]+', ' ', tweet)\n",
    "        tweet_tokens = tt.tokenize(tweet.lower())\n",
    "        bigram_fd.update(nltk.bigrams(tweet_tokens))\n",
    "    return bigram_fd\n",
    "    \n",
    "get_bigrams(texts).most_common(20)    "
   ]
  },
  {
   "cell_type": "code",
   "execution_count": 45,
   "metadata": {},
   "outputs": [
    {
     "data": {
      "text/plain": [
       "[('я', 2803),\n",
       " ('не', 2348),\n",
       " ('в', 2292),\n",
       " ('и', 2151),\n",
       " ('что', 1615),\n",
       " ('на', 1379),\n",
       " ('это', 1117),\n",
       " ('а', 1103),\n",
       " ('с', 1021),\n",
       " ('как', 834)]"
      ]
     },
     "execution_count": 45,
     "metadata": {},
     "output_type": "execute_result"
    }
   ],
   "source": [
    "def get_unigrams(texts):\n",
    "    word_fd = nltk.FreqDist()\n",
    "\n",
    "    for tweet in texts:\n",
    "        tweet = re.sub('[^а-яА-Я]+', ' ', tweet)\n",
    "        tweet_tokens = tt.tokenize(tweet.lower())\n",
    "        word_fd.update(tweet_tokens)\n",
    "    return word_fd\n",
    "    \n",
    "get_unigrams(texts).most_common(10)    "
   ]
  },
  {
   "cell_type": "code",
   "execution_count": 50,
   "metadata": {},
   "outputs": [
    {
     "name": "stdout",
     "output_type": "stream",
     "text": [
      "🥺 :pleading_face: 443\n",
      "😭 :loudly_crying_face: 313\n",
      "❤ :red_heart: 246\n",
      "😂 :face_with_tears_of_joy: 240\n",
      "🏻 :light_skin_tone: 169\n",
      "🤣 :rolling_on_the_floor_laughing: 120\n",
      "💕 :two_hearts: 119\n",
      "😍 :smiling_face_with_heart-eyes: 118\n",
      "💜 :purple_heart: 113\n",
      "😔 :pensive_face: 104\n",
      "💗 :growing_heart: 100\n",
      "✨ :sparkles: 90\n",
      "👍 :thumbs_up: 82\n",
      "😳 :flushed_face: 79\n",
      "🥰 :smiling_face_with_hearts: 71\n",
      "🤔 :thinking_face: 68\n",
      "💖 :sparkling_heart: 67\n",
      "💞 :revolving_hearts: 66\n",
      "♥ :heart_suit: 62\n",
      "🗿 :moai: 60\n",
      "✌ :victory_hand: 55\n",
      "😅 :grinning_face_with_sweat: 52\n",
      "👈 :backhand_index_pointing_left: 51\n",
      "👉 :backhand_index_pointing_right: 50\n",
      "💔 :broken_heart: 48\n",
      "💓 :beating_heart: 46\n",
      "♀ :female_sign: 45\n",
      "🤡 :clown_face: 45\n",
      "👀 :eyes: 44\n",
      "😎 :smiling_face_with_sunglasses: 41\n",
      "✊ :raised_fist: 41\n",
      "😁 :beaming_face_with_smiling_eyes: 40\n",
      "😌 :relieved_face: 39\n",
      "🤧 :sneezing_face: 38\n",
      "😊 :smiling_face_with_smiling_eyes: 37\n",
      "😏 :smirking_face: 36\n",
      "😘 :face_blowing_a_kiss: 35\n",
      "🖤 :black_heart: 35\n",
      "💙 :blue_heart: 33\n",
      "💘 :heart_with_arrow: 30\n",
      "☺ :smiling_face: 30\n",
      "😉 :winking_face: 29\n",
      "🤷 :person_shrugging: 29\n",
      "👁 :eye: 28\n",
      "🤗 :smiling_face_with_open_hands: 28\n",
      "🙃 :upside-down_face: 27\n",
      "🤲 :palms_up_together: 27\n",
      "🙄 :face_with_rolling_eyes: 26\n",
      "🤪 :zany_face: 23\n",
      "🤩 :star-struck: 23\n",
      "🤤 :drooling_face: 23\n",
      "💅 :nail_polish: 23\n",
      "🙂 :slightly_smiling_face: 23\n",
      "☀ :sun: 22\n",
      "😼 :cat_with_wry_smile: 22\n",
      "😐 :neutral_face: 22\n",
      "👊 :oncoming_fist: 21\n",
      "☝ :index_pointing_up: 21\n",
      "😡 :pouting_face: 21\n",
      "🤦 :person_facepalming: 21\n",
      "🥴 :woozy_face: 20\n",
      "💛 :yellow_heart: 20\n",
      "🤭 :face_with_hand_over_mouth: 19\n",
      "🙏 :folded_hands: 19\n",
      "🤝 :handshake: 18\n",
      "🏼 :medium-light_skin_tone: 17\n",
      "🔥 :fire: 17\n",
      "🥳 :partying_face: 16\n",
      "👌 :OK_hand: 16\n",
      "😚 :kissing_face_with_closed_eyes: 16\n",
      "👺 :goblin: 15\n",
      "👏 :clapping_hands: 15\n",
      "😃 :grinning_face_with_big_eyes: 15\n",
      "💚 :green_heart: 15\n",
      "♂ :male_sign: 15\n",
      "😄 :grinning_face_with_smiling_eyes: 15\n",
      "🌸 :cherry_blossom: 15\n",
      "😗 :kissing_face: 14\n",
      "💫 :dizzy: 14\n",
      "😀 :grinning_face: 14\n",
      "💝 :heart_with_ribbon: 13\n",
      "😆 :grinning_squinting_face: 13\n",
      "😜 :winking_face_with_tongue: 13\n",
      "💪 :flexed_biceps: 13\n",
      "🤍 :white_heart: 13\n",
      "😱 :face_screaming_in_fear: 13\n",
      "😋 :face_savoring_food: 12\n",
      "😤 :face_with_steam_from_nose: 12\n",
      "🍑 :peach: 12\n",
      "😩 :weary_face: 11\n",
      "🙈 :see-no-evil_monkey: 11\n",
      "🚬 :cigarette: 10\n",
      "⭐ :star: 10\n",
      "😑 :expressionless_face: 10\n",
      "👩 :woman: 10\n",
      "💋 :kiss_mark: 10\n",
      "💃 :woman_dancing: 10\n",
      "😻 :smiling_cat_with_heart-eyes: 9\n",
      "😇 :smiling_face_with_halo: 9\n",
      "🏽 :medium_skin_tone: 9\n"
     ]
    }
   ],
   "source": [
    "import emoji\n",
    "from emoji import UNICODE_EMOJI\n",
    "\n",
    "def select_emojis(tokens):\n",
    "    emojis = []\n",
    "    for token in tokens:\n",
    "        if is_emoji(token):\n",
    "            emojis.append(token)\n",
    "    return emojis\n",
    "            \n",
    "def is_emoji(s):\n",
    "    for key in UNICODE_EMOJI.keys():\n",
    "        if s in UNICODE_EMOJI[key]:\n",
    "            return True\n",
    "    return False\n",
    "\n",
    "def get_emojis(texts):\n",
    "    word_fd = nltk.FreqDist()\n",
    "\n",
    "    for tweet in texts:\n",
    "        tweet_tokens = tt.tokenize(tweet.lower())\n",
    "        word_fd.update(select_emojis(tweet_tokens))\n",
    "    return word_fd\n",
    "    \n",
    "for token, count in get_emojis(texts).most_common(100):\n",
    "    print(token, emoji.demojize(token), count)"
   ]
  }
 ],
 "metadata": {
  "kernelspec": {
   "display_name": "Python 3",
   "language": "python",
   "name": "python3"
  },
  "language_info": {
   "codemirror_mode": {
    "name": "ipython",
    "version": 3
   },
   "file_extension": ".py",
   "mimetype": "text/x-python",
   "name": "python",
   "nbconvert_exporter": "python",
   "pygments_lexer": "ipython3",
   "version": "3.7.4"
  }
 },
 "nbformat": 4,
 "nbformat_minor": 2
}
